{
 "cells": [
  {
   "cell_type": "markdown",
   "metadata": {},
   "source": [
    "# TALLER BÁSICO DE MANIPULACIÓN DE SEÑALES BIOMÉDICAS"
   ]
  },
  {
   "cell_type": "markdown",
   "metadata": {},
   "source": [
    "## Bioseñales"
   ]
  },
  {
   "attachments": {},
   "cell_type": "markdown",
   "metadata": {},
   "source": [
    "Las señales que vamos a manipular son señales digitales que se obtienen a partir de procesos físicos, en nuestro caso producidos por el cuerpo humano, mediante un par de procesos: muestreo y cuantización. Esto implica que al final obtengamos un conjunto de puntos ordenados que representan la señal que generó el sistema físico\n",
    "\n",
    "![analog-signals-to-digital-signals2.png](analog-signals-to-digital-signals2.png)"
   ]
  },
  {
   "attachments": {},
   "cell_type": "markdown",
   "metadata": {},
   "source": [
    "Los canales o sensores son los medios que permiten capturar el fenómeno físico, en este caso, la aparición de un voltaje\n",
    "\n",
    "![eeg-2680957_960_720.jpg](eeg-2680957_960_720.jpg)"
   ]
  },
  {
   "cell_type": "markdown",
   "metadata": {},
   "source": [
    "## Librerías básicas"
   ]
  },
  {
   "cell_type": "markdown",
   "metadata": {},
   "source": [
    "Describir cada una de las librerías para que sirven, qué las caracteriza y consultar sobre las adicionales"
   ]
  },
  {
   "cell_type": "code",
   "execution_count": null,
   "metadata": {},
   "outputs": [],
   "source": [
    "import numpy as np;\n",
    "import matplotlib.pyplot as plt;\n",
    "\n",
    "from csv import reader as reader_csv;\n",
    "\n",
    "import scipy.signal as signal;\n",
    "import scipy.io as sio;"
   ]
  },
  {
   "cell_type": "markdown",
   "metadata": {},
   "source": [
    "## Carga de archivos .mat"
   ]
  },
  {
   "cell_type": "code",
   "execution_count": null,
   "metadata": {},
   "outputs": [],
   "source": [
    "mat_contents = sio.loadmat('C001R_EP_reposo.mat') #loading data\n",
    "print(\"the loaded keys are: \" + str(mat_contents.keys())); #the data is loaded as a Python dictionary"
   ]
  },
  {
   "cell_type": "code",
   "execution_count": null,
   "metadata": {},
   "outputs": [],
   "source": [
    "#in the current case the signal is stored in the data field\n",
    "data = mat_contents['data'];"
   ]
  },
  {
   "cell_type": "markdown",
   "metadata": {},
   "source": [
    "### Atributos básicos"
   ]
  },
  {
   "cell_type": "code",
   "execution_count": null,
   "metadata": {},
   "outputs": [],
   "source": [
    "print(\"Variable python: \" + str(type(data)));\n",
    "print(\"Tipo de variable cargada: \" + str(data.dtype));\n",
    "print(\"Dimensiones de los datos cargados: \" + str(data.shape));\n",
    "print(\"Numero de dimensiones: \" + str(data.ndim));\n",
    "print(\"Tamanio: \" + str(data.size));\n",
    "print(\"Tamanio en memoria (bytes): \" + str(data.nbytes));"
   ]
  },
  {
   "cell_type": "markdown",
   "metadata": {},
   "source": [
    "Cómo se podría convertir la señal a continua?\n",
    "\n",
    "Cómo se podría verificar que la señal ha quedado bien convertida?"
   ]
  },
  {
   "cell_type": "markdown",
   "metadata": {},
   "source": [
    "## Gráficación básica"
   ]
  },
  {
   "cell_type": "markdown",
   "metadata": {},
   "source": [
    "Resolver punto en la diapositiva 8\n",
    "\n",
    "Graficar la distribución o histograma de los puntos\n",
    "\n",
    "Resolver los mismos puntos usando la interfaz de objetos de matplotlib"
   ]
  },
  {
   "cell_type": "markdown",
   "metadata": {},
   "source": [
    "## Manipulación de señales"
   ]
  },
  {
   "attachments": {},
   "cell_type": "markdown",
   "metadata": {},
   "source": [
    "La señal P300 es una señal que se obtiene cuando una persona tiene que discriminar un estímulo infrecuente entre muchos frecuentes y que se registra en el EEG como un aumento en el voltaje en las condiciones infrecuentes respecto a las frecuentes alrededor de 300 ms luego de la presentación del estímulo.\n",
    "\n",
    "La presencia, magnitud, topografía y duración de esta señal se utiliza a veces en la medición de la función cognitiva de los procesos de toma de decisiones.\n",
    "\n",
    "![Plot-of-the-visual-P300-at-Cz-averaged-across-all-subjects.png](Plot-of-the-visual-P300-at-Cz-averaged-across-all-subjects.png)"
   ]
  },
  {
   "cell_type": "code",
   "execution_count": null,
   "metadata": {},
   "outputs": [],
   "source": [
    "#loading data\n",
    "mat_contents = sio.loadmat('senales_potencial.mat')\n",
    "#the data is loaded as a Python dictionary\n",
    "print(\"the loaded keys are: \" + str(mat_contents.keys()));\n",
    "#in the current case the signal is stored in the data field\n",
    "condicion_frecuente = mat_contents['frecuente'];\n",
    "condicion_infrecuente = mat_contents['infrecuente'];"
   ]
  },
  {
   "cell_type": "code",
   "execution_count": null,
   "metadata": {},
   "outputs": [],
   "source": [
    "print(\"Dimensiones de los datos cargados: \" + str(condicion_frecuente.shape));\n",
    "print(\"Dimensiones de los datos cargados: \" + str(condicion_infrecuente.shape));"
   ]
  },
  {
   "cell_type": "markdown",
   "metadata": {},
   "source": [
    "## Visualización del potencial"
   ]
  },
  {
   "cell_type": "code",
   "execution_count": null,
   "metadata": {},
   "outputs": [],
   "source": [
    "promedio_frecuentes = np.mean(condicion_frecuente,2)\n",
    "promedio_infrecuentes = np.mean(condicion_infrecuente,2)"
   ]
  },
  {
   "cell_type": "code",
   "execution_count": null,
   "metadata": {},
   "outputs": [],
   "source": [
    "plt.plot(promedio_frecuentes[2,:])\n",
    "plt.plot(promedio_infrecuentes[2,:])\n",
    "plt.show()"
   ]
  },
  {
   "cell_type": "markdown",
   "metadata": {},
   "source": [
    "## Estadística básica"
   ]
  },
  {
   "cell_type": "code",
   "execution_count": null,
   "metadata": {},
   "outputs": [],
   "source": []
  },
  {
   "cell_type": "code",
   "execution_count": null,
   "metadata": {},
   "outputs": [],
   "source": []
  }
 ],
 "metadata": {
  "kernelspec": {
   "display_name": "Python 3",
   "language": "python",
   "name": "python3"
  },
  "language_info": {
   "codemirror_mode": {
    "name": "ipython",
    "version": 3
   },
   "file_extension": ".py",
   "mimetype": "text/x-python",
   "name": "python",
   "nbconvert_exporter": "python",
   "pygments_lexer": "ipython3",
   "version": "3.8.5"
  }
 },
 "nbformat": 4,
 "nbformat_minor": 2
}
